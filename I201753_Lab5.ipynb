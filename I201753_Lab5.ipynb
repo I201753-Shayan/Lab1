{
 "cells": [
  {
   "cell_type": "markdown",
   "id": "27e510e4",
   "metadata": {},
   "source": [
    "# Name: Shayan Bakht\n",
    "# Roll_Number: I20-1753\n",
    "# Lab: 05\n"
   ]
  },
  {
   "cell_type": "code",
   "execution_count": 8,
   "id": "cf4597f5",
   "metadata": {},
   "outputs": [],
   "source": [
    "import math\n",
    "import pandas as pd"
   ]
  },
  {
   "cell_type": "markdown",
   "id": "8eda1400",
   "metadata": {},
   "source": [
    "You and your friend are standing in front of a magician and he has a basket with 6 white,\n",
    "4 red and 5 blue balls, each time the magician draws 3 balls and asks you to predict\n",
    "what would be the color of the balls. If you predict correctly the magician loses the\n",
    "game and you win. Since you have become a statistician after doing the ML assignment,\n",
    "what should be the optimal color scheme of the balls that you would propose in order\n",
    "to win the game?"
   ]
  },
  {
   "cell_type": "code",
   "execution_count": 12,
   "id": "5e661d69",
   "metadata": {},
   "outputs": [],
   "source": [
    "colors = ['w','b','r']\n",
    "#We will make all of the possible ocmbinations which can be made form these three colours, then we will find the probabilty of all of them and select the highest one\n",
    "combinations = []\n",
    "for i in colors:\n",
    "    for j in colors:\n",
    "        for k in colors:\n",
    "            combinations.append(i+j+k)\n",
    "            \n",
    "probability_list = []\n",
    "for i in combinations:\n",
    "    w , r , b = 0 , 0 ,0\n",
    "    for ball in i:\n",
    "        if ball == 'w':\n",
    "            w = w+1\n",
    "        elif ball == 'r':\n",
    "            r = r+1\n",
    "        else:\n",
    "            b = b+1\n",
    "    combination_1 = math.comb(6,w)\n",
    "    combination_2 = math.comb(4,r)\n",
    "    combination_3 = math.comb(5,b)\n",
    "    combination_4 = math.comb(15,3)\n",
    "    \n",
    "    probability_list.append( (combination_1 * combination_2 * combination_3)/combination_4)"
   ]
  },
  {
   "cell_type": "code",
   "execution_count": 14,
   "id": "a0c93170",
   "metadata": {
    "scrolled": true
   },
   "outputs": [
    {
     "data": {
      "text/plain": [
       "[0.04395604395604396,\n",
       " 0.16483516483516483,\n",
       " 0.13186813186813187,\n",
       " 0.16483516483516483,\n",
       " 0.13186813186813187,\n",
       " 0.26373626373626374,\n",
       " 0.13186813186813187,\n",
       " 0.26373626373626374,\n",
       " 0.07912087912087912,\n",
       " 0.16483516483516483,\n",
       " 0.13186813186813187,\n",
       " 0.26373626373626374,\n",
       " 0.13186813186813187,\n",
       " 0.02197802197802198,\n",
       " 0.08791208791208792,\n",
       " 0.26373626373626374,\n",
       " 0.08791208791208792,\n",
       " 0.06593406593406594,\n",
       " 0.13186813186813187,\n",
       " 0.26373626373626374,\n",
       " 0.07912087912087912,\n",
       " 0.26373626373626374,\n",
       " 0.08791208791208792,\n",
       " 0.06593406593406594,\n",
       " 0.07912087912087912,\n",
       " 0.06593406593406594,\n",
       " 0.008791208791208791]"
      ]
     },
     "execution_count": 14,
     "metadata": {},
     "output_type": "execute_result"
    }
   ],
   "source": [
    "probability_list"
   ]
  },
  {
   "cell_type": "code",
   "execution_count": 15,
   "id": "9d1edcd8",
   "metadata": {},
   "outputs": [
    {
     "name": "stdout",
     "output_type": "stream",
     "text": [
      "wbr\n",
      "0.26373626373626374\n"
     ]
    }
   ],
   "source": [
    "max=0\n",
    "index=0\n",
    "\n",
    "for i in range(len(probability_list)):\n",
    "    if probability_list[i] > max:\n",
    "        max = probability_list[i]\n",
    "        index = i\n",
    "        \n",
    "print(combinations[index])\n",
    "print(max)\n",
    "        "
   ]
  },
  {
   "cell_type": "markdown",
   "id": "bbffee50",
   "metadata": {},
   "source": [
    "Write a function that takes input from user and determines the input parameters belong\n",
    "which class (using Naïve assumptions) (use the provided dataset) . Compare your results\n",
    "with GaussianNB() built in function"
   ]
  },
  {
   "cell_type": "code",
   "execution_count": 9,
   "id": "d6404f58",
   "metadata": {},
   "outputs": [],
   "source": [
    "from sklearn.datasets import load_iris\n",
    "from scipy.stats import multivariate_normal\n",
    "df = pd.read_csv('Iris.data')"
   ]
  },
  {
   "cell_type": "code",
   "execution_count": 11,
   "id": "e873e506",
   "metadata": {},
   "outputs": [
    {
     "data": {
      "text/html": [
       "<div>\n",
       "<style scoped>\n",
       "    .dataframe tbody tr th:only-of-type {\n",
       "        vertical-align: middle;\n",
       "    }\n",
       "\n",
       "    .dataframe tbody tr th {\n",
       "        vertical-align: top;\n",
       "    }\n",
       "\n",
       "    .dataframe thead th {\n",
       "        text-align: right;\n",
       "    }\n",
       "</style>\n",
       "<table border=\"1\" class=\"dataframe\">\n",
       "  <thead>\n",
       "    <tr style=\"text-align: right;\">\n",
       "      <th></th>\n",
       "      <th>5.1</th>\n",
       "      <th>3.5</th>\n",
       "      <th>1.4</th>\n",
       "      <th>0.2</th>\n",
       "      <th>Iris-setosa</th>\n",
       "    </tr>\n",
       "  </thead>\n",
       "  <tbody>\n",
       "    <tr>\n",
       "      <th>0</th>\n",
       "      <td>4.9</td>\n",
       "      <td>3.0</td>\n",
       "      <td>1.4</td>\n",
       "      <td>0.2</td>\n",
       "      <td>Iris-setosa</td>\n",
       "    </tr>\n",
       "    <tr>\n",
       "      <th>1</th>\n",
       "      <td>4.7</td>\n",
       "      <td>3.2</td>\n",
       "      <td>1.3</td>\n",
       "      <td>0.2</td>\n",
       "      <td>Iris-setosa</td>\n",
       "    </tr>\n",
       "    <tr>\n",
       "      <th>2</th>\n",
       "      <td>4.6</td>\n",
       "      <td>3.1</td>\n",
       "      <td>1.5</td>\n",
       "      <td>0.2</td>\n",
       "      <td>Iris-setosa</td>\n",
       "    </tr>\n",
       "    <tr>\n",
       "      <th>3</th>\n",
       "      <td>5.0</td>\n",
       "      <td>3.6</td>\n",
       "      <td>1.4</td>\n",
       "      <td>0.2</td>\n",
       "      <td>Iris-setosa</td>\n",
       "    </tr>\n",
       "    <tr>\n",
       "      <th>4</th>\n",
       "      <td>5.4</td>\n",
       "      <td>3.9</td>\n",
       "      <td>1.7</td>\n",
       "      <td>0.4</td>\n",
       "      <td>Iris-setosa</td>\n",
       "    </tr>\n",
       "    <tr>\n",
       "      <th>...</th>\n",
       "      <td>...</td>\n",
       "      <td>...</td>\n",
       "      <td>...</td>\n",
       "      <td>...</td>\n",
       "      <td>...</td>\n",
       "    </tr>\n",
       "    <tr>\n",
       "      <th>144</th>\n",
       "      <td>6.7</td>\n",
       "      <td>3.0</td>\n",
       "      <td>5.2</td>\n",
       "      <td>2.3</td>\n",
       "      <td>Iris-virginica</td>\n",
       "    </tr>\n",
       "    <tr>\n",
       "      <th>145</th>\n",
       "      <td>6.3</td>\n",
       "      <td>2.5</td>\n",
       "      <td>5.0</td>\n",
       "      <td>1.9</td>\n",
       "      <td>Iris-virginica</td>\n",
       "    </tr>\n",
       "    <tr>\n",
       "      <th>146</th>\n",
       "      <td>6.5</td>\n",
       "      <td>3.0</td>\n",
       "      <td>5.2</td>\n",
       "      <td>2.0</td>\n",
       "      <td>Iris-virginica</td>\n",
       "    </tr>\n",
       "    <tr>\n",
       "      <th>147</th>\n",
       "      <td>6.2</td>\n",
       "      <td>3.4</td>\n",
       "      <td>5.4</td>\n",
       "      <td>2.3</td>\n",
       "      <td>Iris-virginica</td>\n",
       "    </tr>\n",
       "    <tr>\n",
       "      <th>148</th>\n",
       "      <td>5.9</td>\n",
       "      <td>3.0</td>\n",
       "      <td>5.1</td>\n",
       "      <td>1.8</td>\n",
       "      <td>Iris-virginica</td>\n",
       "    </tr>\n",
       "  </tbody>\n",
       "</table>\n",
       "<p>149 rows × 5 columns</p>\n",
       "</div>"
      ],
      "text/plain": [
       "     5.1  3.5  1.4  0.2     Iris-setosa\n",
       "0    4.9  3.0  1.4  0.2     Iris-setosa\n",
       "1    4.7  3.2  1.3  0.2     Iris-setosa\n",
       "2    4.6  3.1  1.5  0.2     Iris-setosa\n",
       "3    5.0  3.6  1.4  0.2     Iris-setosa\n",
       "4    5.4  3.9  1.7  0.4     Iris-setosa\n",
       "..   ...  ...  ...  ...             ...\n",
       "144  6.7  3.0  5.2  2.3  Iris-virginica\n",
       "145  6.3  2.5  5.0  1.9  Iris-virginica\n",
       "146  6.5  3.0  5.2  2.0  Iris-virginica\n",
       "147  6.2  3.4  5.4  2.3  Iris-virginica\n",
       "148  5.9  3.0  5.1  1.8  Iris-virginica\n",
       "\n",
       "[149 rows x 5 columns]"
      ]
     },
     "execution_count": 11,
     "metadata": {},
     "output_type": "execute_result"
    }
   ],
   "source": [
    "df"
   ]
  },
  {
   "cell_type": "code",
   "execution_count": null,
   "id": "71f1e60d",
   "metadata": {},
   "outputs": [],
   "source": [
    "data = [df[0],df[1],df[2],df[3],df[4]]\n",
    "setosa = []\n",
    "virginica = []\n",
    "versicolor = []\n",
    "\n",
    "for i in range(len(df1[0])):\n",
    "    if data[4][i] == 'Iris-setosa':\n",
    "        setosa.append([data[0][i],df1[1][i],data[2][i],data[3][i]])\n",
    "    if data[4][i] == 'Iris-virginica':\n",
    "        virginica.append([data[0][i],data[1][i],data[2][i],data[3][i]])\n",
    "    if data[4][i] == 'Iris-versicolor':\n",
    "        versicolor.append([data[0][i],data[1][i],data[2][i],data[3][i]])\n",
    "#Now finding the mean, and covarience of the above categorized data\n",
    "setosa_mean = np.mean(setosa,axis=0)\n",
    "virginica_mean = np.mean(virginica,axis=0)\n",
    "versicolor_mean = np.mean(versicolor,axis=0)\n",
    "\n",
    "setosa_cov = np.cov(setosa,rowvar=0)\n",
    "virginica_cov = np.cov(virginica,rowvar=0)\n",
    "versicolor_cov = np.cov(versicolor,rowvar=0)\n",
    "#extracting Diagonals\n",
    "dia_setosa = np.diagonal(setosa_cov)  #for setosa\n",
    "dia_virginica = np.diagonal(virginica_cov) #for virginica\n",
    "dia_versicolor = np.diagonal(versicolor_cov) # for versicolor\n",
    "#Creating vectors with zeros\n",
    "n_setosa = np.zeros(setosa_cov.shape)\n",
    "n_virginica = np.zeros(virginica_cov.shape)\n",
    "n_versicolor = np.zeros(versicolor_cov.shape)\n",
    "\n",
    "#naive matrix \n",
    "for i in range(len(n_setosa)):\n",
    "    for j in range(len(n_setosa)): #using the zeros vectors which we created above \n",
    "        if i == j:\n",
    "            n_setosa[i][j] = dia_setosa[i]\n",
    "\n",
    "for i in range(len(n_virginica)):\n",
    "    for j in range(len(n_virginica)):\n",
    "        if i == j:\n",
    "            n_virginica[i][j] = dia_virginica[i]\n",
    "\n",
    "for i in range(len(n_versicolor)):\n",
    "    for j in range(len(n_versicolor)):\n",
    "        if i == j:\n",
    "            n_versicolor[i][j] = dia_versicolor[i]\n",
    "\n",
    "#Now taking inverse\n",
    "inverse_setcov = np.linalg.inv(n_setosa)\n",
    "inverse_vircov = np.linalg.inv(n_virginica)\n",
    "inverse_vercov = np.linalg.inv(n_versicolor)\n",
    "#Setting an array as input\n",
    "Input=[]\n",
    "for i in range(0,4):\n",
    "    input(a)\n",
    "    \n"
   ]
  },
  {
   "cell_type": "markdown",
   "id": "0b0ef1b9",
   "metadata": {},
   "source": [
    "Categorize the continuous values and perform the 2 nd task. How well was your\n",
    "categorization? Did it achieve the same results without categorizing the data?"
   ]
  },
  {
   "cell_type": "code",
   "execution_count": null,
   "id": "89640144",
   "metadata": {},
   "outputs": [],
   "source": []
  },
  {
   "cell_type": "markdown",
   "id": "97328aaa",
   "metadata": {},
   "source": [
    "# BONUS QUESTION:\n",
    "A friend of yours has just opened a pizza shop and he doesn’t want to you come there\n",
    "fearing you would eat for free. Somehow you sneak in the shop and you order an 8 inch\n",
    "pizza , your friend tells you that he doesn’t have an 8 inch pizza but he can give you two\n",
    "5 inch ones at the same price with the exact same things. As a statistician, should you\n",
    "be taking that deal? Is that beneficial for you or not? Give statistical reasoning."
   ]
  },
  {
   "cell_type": "code",
   "execution_count": 3,
   "id": "8c3da9ad",
   "metadata": {},
   "outputs": [
    {
     "name": "stdout",
     "output_type": "stream",
     "text": [
      "Getting one pizza of 8 inches would be better as it has a greater area\n"
     ]
    }
   ],
   "source": [
    "#Measurments of pizzas in inches\n",
    "P8in = 8\n",
    "p5in = 5\n",
    "\n",
    "#Area of circle => area = π · r2\n",
    "pi = 3.14159265\n",
    "r8in = 4 # radius of 8 inches pizza\n",
    "r5in = 2.5 # radius of 5 inches pizza\n",
    "\n",
    "Area8in = pi * (r8in**2)\n",
    "Area5in = pi * (r5in**2)\n",
    "\n",
    "if Area8in > (Area5in * 2):\n",
    "    print(\"Getting one pizza of 8 inches would be better as it has a greater area\")\n",
    "else:\n",
    "    print(\"Getting two pizza of 5 inches would be better as it has a greater area\")"
   ]
  }
 ],
 "metadata": {
  "kernelspec": {
   "display_name": "Python 3 (ipykernel)",
   "language": "python",
   "name": "python3"
  },
  "language_info": {
   "codemirror_mode": {
    "name": "ipython",
    "version": 3
   },
   "file_extension": ".py",
   "mimetype": "text/x-python",
   "name": "python",
   "nbconvert_exporter": "python",
   "pygments_lexer": "ipython3",
   "version": "3.9.7"
  }
 },
 "nbformat": 4,
 "nbformat_minor": 5
}
