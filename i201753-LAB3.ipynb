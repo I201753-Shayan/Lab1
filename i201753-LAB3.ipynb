{
 "cells": [
  {
   "cell_type": "markdown",
   "id": "dc6f1816",
   "metadata": {},
   "source": [
    "# Name: Shayan Bakht\n",
    "# Roll_number: I20-1753\n",
    "# Lab: 03"
   ]
  },
  {
   "cell_type": "code",
   "execution_count": 39,
   "id": "2ac314d1",
   "metadata": {},
   "outputs": [],
   "source": [
    "import numpy as np\n",
    "import pandas as pd\n",
    "import matplotlib.pyplot as plt\n",
    "from numpy.linalg import eig\n",
    "from sklearn import datasets"
   ]
  },
  {
   "cell_type": "markdown",
   "id": "539fff49",
   "metadata": {},
   "source": [
    "# Creating a random vector"
   ]
  },
  {
   "cell_type": "code",
   "execution_count": 2,
   "id": "85485edd",
   "metadata": {},
   "outputs": [
    {
     "data": {
      "text/plain": [
       "array([5, 9])"
      ]
     },
     "execution_count": 2,
     "metadata": {},
     "output_type": "execute_result"
    }
   ],
   "source": [
    "vector1= np.random.randint(1,10,size=(1,2))[0]\n",
    "vector1"
   ]
  },
  {
   "cell_type": "markdown",
   "id": "f014a34c",
   "metadata": {},
   "source": [
    "# Find an orthogonal vector of that random vector"
   ]
  },
  {
   "cell_type": "markdown",
   "id": "5f523e16",
   "metadata": {},
   "source": [
    "Method:\n",
    "1.assume a vector initiated with x,y. \n",
    "2.let the value of x be 1 so we can calculate y\n",
    "3. Num + num2 (Y) = 0\n",
    "4. Y = -Num / num2"
   ]
  },
  {
   "cell_type": "code",
   "execution_count": 3,
   "id": "1c2b0950",
   "metadata": {},
   "outputs": [],
   "source": [
    "# v1=[7,8]\n",
    "# v2=[x,y]\n",
    "# 7x+8y = 0\n",
    "# If we assume x as 1\n",
    "# 7(1)+8y =0\n",
    "# 8y = -7\n",
    "# y = -7/8"
   ]
  },
  {
   "cell_type": "code",
   "execution_count": 4,
   "id": "249fbe06",
   "metadata": {},
   "outputs": [],
   "source": [
    "vector2=[] #value of x is initiated by 1, y isnt mentioned yet vector2 = [x,y]\n",
    "vector2.append(1)"
   ]
  },
  {
   "cell_type": "code",
   "execution_count": 5,
   "id": "5d68eb66",
   "metadata": {},
   "outputs": [],
   "source": [
    "valueOfY= -1 * (vector2[0]*vector1[0]) "
   ]
  },
  {
   "cell_type": "code",
   "execution_count": 6,
   "id": "fffbdd8c",
   "metadata": {},
   "outputs": [],
   "source": [
    "vector2.append(valueOfY/vector1[1])"
   ]
  },
  {
   "cell_type": "code",
   "execution_count": 7,
   "id": "0b8264e0",
   "metadata": {},
   "outputs": [
    {
     "data": {
      "text/plain": [
       "0.0"
      ]
     },
     "execution_count": 7,
     "metadata": {},
     "output_type": "execute_result"
    }
   ],
   "source": [
    "np.dot(vector1 , vector2)"
   ]
  },
  {
   "cell_type": "code",
   "execution_count": 8,
   "id": "d0f814ff",
   "metadata": {},
   "outputs": [],
   "source": [
    "#Visualization Of Orthagonal"
   ]
  },
  {
   "cell_type": "code",
   "execution_count": 9,
   "id": "60ce158e",
   "metadata": {},
   "outputs": [
    {
     "data": {
      "image/png": "[encoded data removed]",
      "text/plain": [
       "<Figure size 360x360 with 1 Axes>"
      ]
     },
     "metadata": {
      "needs_background": "light"
     },
     "output_type": "display_data"
    }
   ],
   "source": [
    "fig = plt.figure(figsize=(5, 5))\n",
    "axis = fig.add_subplot(111)\n",
    "axis.grid(alpha=0.8)\n",
    "axis.set(xlim=(-10, 10), ylim=(-10, 10))\n",
    "# Plot the orthogonal vectors\n",
    "axis.annotate('', xy=vector1, xytext=(0, 0), arrowprops=dict(facecolor='b'))\n",
    "axis.annotate('', xy=vector2, xytext=(0, 0), arrowprops=dict(facecolor='r'))\n",
    "plt.show()"
   ]
  },
  {
   "cell_type": "markdown",
   "id": "8aafb6f9",
   "metadata": {},
   "source": [
    "# Projections"
   ]
  },
  {
   "cell_type": "code",
   "execution_count": 13,
   "id": "ee860e21",
   "metadata": {},
   "outputs": [
    {
     "name": "stdout",
     "output_type": "stream",
     "text": [
      "Vector2 on vector1: [0. 0.]\n",
      "Vector1 on vector2: [ 0. -0.]\n"
     ]
    }
   ],
   "source": [
    "#Vector2 on Vector1\n",
    "MagnitudeVector1 = np.sqrt(np.sum(vector1*vector1))\n",
    "ProjectionVector1 = np.dot(vector1 , vector2)*vector1/MagnitudeVector1\n",
    "print(\"Vector2 on vector1:\" ,ProjectionVector1)\n",
    "#Vector1 on vector2\n",
    "vector2 = np.array(vector2)\n",
    "MagnitudeVector2 = np.sqrt(np.sum(vector2*vector2))\n",
    "ProjectionVector2 = np.dot(vector2 , vector1)*vector2/MagnitudeVector1\n",
    "print(\"Vector1 on vector2:\" ,ProjectionVector2)"
   ]
  },
  {
   "cell_type": "code",
   "execution_count": 14,
   "id": "a5e1c17a",
   "metadata": {},
   "outputs": [
    {
     "data": {
      "image/png": "[encoded data removed]",
      "text/plain": [
       "<Figure size 720x720 with 1 Axes>"
      ]
     },
     "metadata": {
      "needs_background": "light"
     },
     "output_type": "display_data"
    }
   ],
   "source": [
    "#Projection Graphical Representation\n",
    "fig = plt.figure(figsize=(10, 10))\n",
    "axis = fig.add_subplot(111)\n",
    "\n",
    "axis.grid(alpha=0.4)\n",
    "axis.set(xlim=(-10, 10), ylim=(-10, 10))\n",
    "\n",
    "\n",
    "# Plot the orthogonal vectors\n",
    "axis.annotate('', xy=vector1, xytext=(0, 0), arrowprops=dict(facecolor='b'))\n",
    "axis.annotate('', xy=vector2, xytext=(0, 0), arrowprops=dict(facecolor='r'))\n",
    "axis.annotate('', xy=ProjectionVector1, xytext=(0, 0), arrowprops=dict(facecolor='y'))\n",
    "axis.annotate('', xy=ProjectionVector2, xytext=(0, 0), arrowprops=dict(facecolor='g'))\n",
    "\n",
    "plt.show()"
   ]
  },
  {
   "cell_type": "markdown",
   "id": "abd67745",
   "metadata": {},
   "source": [
    "# Initial Vectors"
   ]
  },
  {
   "cell_type": "code",
   "execution_count": 15,
   "id": "bde101f5",
   "metadata": {},
   "outputs": [],
   "source": [
    "#As the projections are zero, initial vectore cant be found"
   ]
  },
  {
   "cell_type": "markdown",
   "id": "f5dbdb0b",
   "metadata": {},
   "source": [
    "# Take two vectors and make projections"
   ]
  },
  {
   "cell_type": "code",
   "execution_count": 31,
   "id": "72bf9918",
   "metadata": {},
   "outputs": [
    {
     "name": "stdout",
     "output_type": "stream",
     "text": [
      "Vector1: [1 3]\n",
      "Vector2: [3 6]\n"
     ]
    }
   ],
   "source": [
    "tVector1 =  np.random.randint(1,10,size=(1,2))[0]\n",
    "print(\"Vector1:\",tVector1)\n",
    "tVector2 =  np.random.randint(1,10,size=(1,2))[0]\n",
    "print(\"Vector2:\",tVector2)"
   ]
  },
  {
   "cell_type": "code",
   "execution_count": 32,
   "id": "58ff281a",
   "metadata": {},
   "outputs": [
    {
     "name": "stdout",
     "output_type": "stream",
     "text": [
      "Projection: [ 6.64078309 19.92234926]\n",
      "Projection: [ 9.39148551 18.78297101]\n"
     ]
    }
   ],
   "source": [
    "Magnitude_tVector1 = np.sqrt(np.sum(tVector1*tVector1))\n",
    "Projection_tVector1 = np.dot(tVector1 , tVector2)*tVector1/Magnitude_tVector1\n",
    "print(\"Projection:\",Projection_tVector1)\n",
    "Magnitude_tVector2 = np.sqrt(np.sum(tVector2*tVector2))\n",
    "Projection_tVector2 = np.dot(tVector1 , tVector2)*tVector2/Magnitude_tVector2\n",
    "print(\"Projection:\",Projection_tVector2)"
   ]
  },
  {
   "cell_type": "code",
   "execution_count": 33,
   "id": "c151bc59",
   "metadata": {},
   "outputs": [
    {
     "data": {
      "image/png": "[encoded data removed]",
      "text/plain": [
       "<Figure size 720x720 with 1 Axes>"
      ]
     },
     "metadata": {
      "needs_background": "light"
     },
     "output_type": "display_data"
    }
   ],
   "source": [
    "#Projection on graph\n",
    "fig = plt.figure(figsize=(10, 10))\n",
    "axis = fig.add_subplot(111)\n",
    "axis.grid(alpha=0.4)\n",
    "axis.set(xlim=(-10, 10), ylim=(-10, 10))\n",
    "\n",
    "\n",
    "# Plot the orthogonal vectors\n",
    "axis.annotate('', xy=tVector1, xytext=(0, 0), arrowprops=dict(facecolor='b'))\n",
    "axis.annotate('', xy=tVector2, xytext=(0, 0), arrowprops=dict(facecolor='r'))\n",
    "axis.annotate('', xy=Projection_tVector1, xytext=(0, 0), arrowprops=dict(facecolor='y'))\n",
    "axis.annotate('', xy=Projection_tVector2, xytext=(0, 0), arrowprops=dict(facecolor='g'))\n",
    "\n",
    "plt.show()"
   ]
  },
  {
   "cell_type": "markdown",
   "id": "79ec9020",
   "metadata": {},
   "source": [
    "# compute the eigenvalues and eigenvectors"
   ]
  },
  {
   "cell_type": "code",
   "execution_count": 40,
   "id": "015b9ee6",
   "metadata": {},
   "outputs": [
    {
     "data": {
      "text/html": [
       "<div>\n",
       "<style scoped>\n",
       "    .dataframe tbody tr th:only-of-type {\n",
       "        vertical-align: middle;\n",
       "    }\n",
       "\n",
       "    .dataframe tbody tr th {\n",
       "        vertical-align: top;\n",
       "    }\n",
       "\n",
       "    .dataframe thead th {\n",
       "        text-align: right;\n",
       "    }\n",
       "</style>\n",
       "<table border=\"1\" class=\"dataframe\">\n",
       "  <thead>\n",
       "    <tr style=\"text-align: right;\">\n",
       "      <th></th>\n",
       "      <th>0</th>\n",
       "      <th>1</th>\n",
       "      <th>2</th>\n",
       "      <th>3</th>\n",
       "    </tr>\n",
       "  </thead>\n",
       "  <tbody>\n",
       "    <tr>\n",
       "      <th>0</th>\n",
       "      <td>5.1</td>\n",
       "      <td>3.5</td>\n",
       "      <td>1.4</td>\n",
       "      <td>0.2</td>\n",
       "    </tr>\n",
       "    <tr>\n",
       "      <th>1</th>\n",
       "      <td>4.9</td>\n",
       "      <td>3.0</td>\n",
       "      <td>1.4</td>\n",
       "      <td>0.2</td>\n",
       "    </tr>\n",
       "    <tr>\n",
       "      <th>2</th>\n",
       "      <td>4.7</td>\n",
       "      <td>3.2</td>\n",
       "      <td>1.3</td>\n",
       "      <td>0.2</td>\n",
       "    </tr>\n",
       "    <tr>\n",
       "      <th>3</th>\n",
       "      <td>4.6</td>\n",
       "      <td>3.1</td>\n",
       "      <td>1.5</td>\n",
       "      <td>0.2</td>\n",
       "    </tr>\n",
       "    <tr>\n",
       "      <th>4</th>\n",
       "      <td>5.0</td>\n",
       "      <td>3.6</td>\n",
       "      <td>1.4</td>\n",
       "      <td>0.2</td>\n",
       "    </tr>\n",
       "    <tr>\n",
       "      <th>...</th>\n",
       "      <td>...</td>\n",
       "      <td>...</td>\n",
       "      <td>...</td>\n",
       "      <td>...</td>\n",
       "    </tr>\n",
       "    <tr>\n",
       "      <th>145</th>\n",
       "      <td>6.7</td>\n",
       "      <td>3.0</td>\n",
       "      <td>5.2</td>\n",
       "      <td>2.3</td>\n",
       "    </tr>\n",
       "    <tr>\n",
       "      <th>146</th>\n",
       "      <td>6.3</td>\n",
       "      <td>2.5</td>\n",
       "      <td>5.0</td>\n",
       "      <td>1.9</td>\n",
       "    </tr>\n",
       "    <tr>\n",
       "      <th>147</th>\n",
       "      <td>6.5</td>\n",
       "      <td>3.0</td>\n",
       "      <td>5.2</td>\n",
       "      <td>2.0</td>\n",
       "    </tr>\n",
       "    <tr>\n",
       "      <th>148</th>\n",
       "      <td>6.2</td>\n",
       "      <td>3.4</td>\n",
       "      <td>5.4</td>\n",
       "      <td>2.3</td>\n",
       "    </tr>\n",
       "    <tr>\n",
       "      <th>149</th>\n",
       "      <td>5.9</td>\n",
       "      <td>3.0</td>\n",
       "      <td>5.1</td>\n",
       "      <td>1.8</td>\n",
       "    </tr>\n",
       "  </tbody>\n",
       "</table>\n",
       "<p>150 rows × 4 columns</p>\n",
       "</div>"
      ],
      "text/plain": [
       "       0    1    2    3\n",
       "0    5.1  3.5  1.4  0.2\n",
       "1    4.9  3.0  1.4  0.2\n",
       "2    4.7  3.2  1.3  0.2\n",
       "3    4.6  3.1  1.5  0.2\n",
       "4    5.0  3.6  1.4  0.2\n",
       "..   ...  ...  ...  ...\n",
       "145  6.7  3.0  5.2  2.3\n",
       "146  6.3  2.5  5.0  1.9\n",
       "147  6.5  3.0  5.2  2.0\n",
       "148  6.2  3.4  5.4  2.3\n",
       "149  5.9  3.0  5.1  1.8\n",
       "\n",
       "[150 rows x 4 columns]"
      ]
     },
     "execution_count": 40,
     "metadata": {},
     "output_type": "execute_result"
    }
   ],
   "source": [
    "iris = datasets.load_iris()\n",
    "iris_df=pd.DataFrame(iris.data)\n",
    "iris_df"
   ]
  },
  {
   "cell_type": "code",
   "execution_count": 42,
   "id": "38ae018f",
   "metadata": {},
   "outputs": [
    {
     "name": "stdout",
     "output_type": "stream",
     "text": [
      "Eigen-value: (150,)\n",
      "Eigen-vector (150, 150)\n"
     ]
    }
   ],
   "source": [
    "Iris_DataFrame_Numpy = iris_df.to_numpy()\n",
    "Iris_DataFrame_Matrix = np.asmatrix(Iris_DataFrame_Numpy)\n",
    "Iris_Data_frame_Squared = Iris_DataFrame_Numpy * Iris_DataFrame_Matrix.T\n",
    "Iris_Data_frame_Squared.shape\n",
    "Eigen_Value,Eigen_Vector=eig(Iris_Data_frame_Squared)\n",
    "print('Eigen-value:', Eigen_Value.shape)\n",
    "print('Eigen-vector', Eigen_Vector.shape)"
   ]
  },
  {
   "cell_type": "markdown",
   "id": "381b8d68",
   "metadata": {},
   "source": [
    "# Change the Iris data to zero-centered data using techniques learned in the class"
   ]
  },
  {
   "cell_type": "code",
   "execution_count": 43,
   "id": "f1adbce8",
   "metadata": {},
   "outputs": [],
   "source": [
    "#It is done by subtracting the mean "
   ]
  },
  {
   "cell_type": "code",
   "execution_count": 44,
   "id": "6ada57cb",
   "metadata": {},
   "outputs": [
    {
     "data": {
      "text/html": [
       "<div>\n",
       "<style scoped>\n",
       "    .dataframe tbody tr th:only-of-type {\n",
       "        vertical-align: middle;\n",
       "    }\n",
       "\n",
       "    .dataframe tbody tr th {\n",
       "        vertical-align: top;\n",
       "    }\n",
       "\n",
       "    .dataframe thead th {\n",
       "        text-align: right;\n",
       "    }\n",
       "</style>\n",
       "<table border=\"1\" class=\"dataframe\">\n",
       "  <thead>\n",
       "    <tr style=\"text-align: right;\">\n",
       "      <th></th>\n",
       "      <th>0</th>\n",
       "      <th>1</th>\n",
       "      <th>2</th>\n",
       "      <th>3</th>\n",
       "    </tr>\n",
       "  </thead>\n",
       "  <tbody>\n",
       "    <tr>\n",
       "      <th>0</th>\n",
       "      <td>-0.743333</td>\n",
       "      <td>0.442667</td>\n",
       "      <td>-2.358</td>\n",
       "      <td>-0.999333</td>\n",
       "    </tr>\n",
       "    <tr>\n",
       "      <th>1</th>\n",
       "      <td>-0.943333</td>\n",
       "      <td>-0.057333</td>\n",
       "      <td>-2.358</td>\n",
       "      <td>-0.999333</td>\n",
       "    </tr>\n",
       "    <tr>\n",
       "      <th>2</th>\n",
       "      <td>-1.143333</td>\n",
       "      <td>0.142667</td>\n",
       "      <td>-2.458</td>\n",
       "      <td>-0.999333</td>\n",
       "    </tr>\n",
       "    <tr>\n",
       "      <th>3</th>\n",
       "      <td>-1.243333</td>\n",
       "      <td>0.042667</td>\n",
       "      <td>-2.258</td>\n",
       "      <td>-0.999333</td>\n",
       "    </tr>\n",
       "    <tr>\n",
       "      <th>4</th>\n",
       "      <td>-0.843333</td>\n",
       "      <td>0.542667</td>\n",
       "      <td>-2.358</td>\n",
       "      <td>-0.999333</td>\n",
       "    </tr>\n",
       "    <tr>\n",
       "      <th>...</th>\n",
       "      <td>...</td>\n",
       "      <td>...</td>\n",
       "      <td>...</td>\n",
       "      <td>...</td>\n",
       "    </tr>\n",
       "    <tr>\n",
       "      <th>145</th>\n",
       "      <td>0.856667</td>\n",
       "      <td>-0.057333</td>\n",
       "      <td>1.442</td>\n",
       "      <td>1.100667</td>\n",
       "    </tr>\n",
       "    <tr>\n",
       "      <th>146</th>\n",
       "      <td>0.456667</td>\n",
       "      <td>-0.557333</td>\n",
       "      <td>1.242</td>\n",
       "      <td>0.700667</td>\n",
       "    </tr>\n",
       "    <tr>\n",
       "      <th>147</th>\n",
       "      <td>0.656667</td>\n",
       "      <td>-0.057333</td>\n",
       "      <td>1.442</td>\n",
       "      <td>0.800667</td>\n",
       "    </tr>\n",
       "    <tr>\n",
       "      <th>148</th>\n",
       "      <td>0.356667</td>\n",
       "      <td>0.342667</td>\n",
       "      <td>1.642</td>\n",
       "      <td>1.100667</td>\n",
       "    </tr>\n",
       "    <tr>\n",
       "      <th>149</th>\n",
       "      <td>0.056667</td>\n",
       "      <td>-0.057333</td>\n",
       "      <td>1.342</td>\n",
       "      <td>0.600667</td>\n",
       "    </tr>\n",
       "  </tbody>\n",
       "</table>\n",
       "<p>150 rows × 4 columns</p>\n",
       "</div>"
      ],
      "text/plain": [
       "            0         1      2         3\n",
       "0   -0.743333  0.442667 -2.358 -0.999333\n",
       "1   -0.943333 -0.057333 -2.358 -0.999333\n",
       "2   -1.143333  0.142667 -2.458 -0.999333\n",
       "3   -1.243333  0.042667 -2.258 -0.999333\n",
       "4   -0.843333  0.542667 -2.358 -0.999333\n",
       "..        ...       ...    ...       ...\n",
       "145  0.856667 -0.057333  1.442  1.100667\n",
       "146  0.456667 -0.557333  1.242  0.700667\n",
       "147  0.656667 -0.057333  1.442  0.800667\n",
       "148  0.356667  0.342667  1.642  1.100667\n",
       "149  0.056667 -0.057333  1.342  0.600667\n",
       "\n",
       "[150 rows x 4 columns]"
      ]
     },
     "execution_count": 44,
     "metadata": {},
     "output_type": "execute_result"
    }
   ],
   "source": [
    "Centered_Iris_DataFrame = iris_df - iris_df.mean()\n",
    "Centered_Iris_DataFrame"
   ]
  },
  {
   "cell_type": "markdown",
   "id": "a52130fe",
   "metadata": {},
   "source": [
    "# ECG200_Train Dataset"
   ]
  },
  {
   "cell_type": "code",
   "execution_count": 46,
   "id": "799de687",
   "metadata": {},
   "outputs": [
    {
     "name": "stderr",
     "output_type": "stream",
     "text": [
      "C:\\Users\\Xade\\anaconda3\\lib\\site-packages\\pandas\\util\\_decorators.py:311: ParserWarning: Falling back to the 'python' engine because the 'c' engine does not support regex separators (separators > 1 char and different from '\\s+' are interpreted as regex); you can avoid this warning by specifying engine='python'.\n",
      "  return func(*args, **kwargs)\n"
     ]
    }
   ],
   "source": [
    "ECG_DataFrame = pd.read_csv(\"ECG200_TRAIN.csv\" , delimiter=\"  \")"
   ]
  },
  {
   "cell_type": "code",
   "execution_count": 47,
   "id": "597a2eef",
   "metadata": {},
   "outputs": [
    {
     "data": {
      "text/html": [
       "<div>\n",
       "<style scoped>\n",
       "    .dataframe tbody tr th:only-of-type {\n",
       "        vertical-align: middle;\n",
       "    }\n",
       "\n",
       "    .dataframe tbody tr th {\n",
       "        vertical-align: top;\n",
       "    }\n",
       "\n",
       "    .dataframe thead th {\n",
       "        text-align: right;\n",
       "    }\n",
       "</style>\n",
       "<table border=\"1\" class=\"dataframe\">\n",
       "  <thead>\n",
       "    <tr style=\"text-align: right;\">\n",
       "      <th></th>\n",
       "      <th>-1.0000000e+00</th>\n",
       "      <th>5.0205548e-01</th>\n",
       "      <th>5.4216265e-01</th>\n",
       "      <th>7.2238348e-01</th>\n",
       "      <th>1.4288852e+00</th>\n",
       "      <th>2.1365158e+00</th>\n",
       "      <th>2.2811490e+00</th>\n",
       "      <th>1.9362737e+00</th>\n",
       "      <th>1.4688900e+00</th>\n",
       "      <th>1.0088451e+00</th>\n",
       "      <th>...</th>\n",
       "      <th>9.3104294e-01</th>\n",
       "      <th>6.1029836e-01</th>\n",
       "      <th>6.3889427e-01</th>\n",
       "      <th>6.8467857e-01</th>\n",
       "      <th>5.8323764e-01</th>\n",
       "      <th>6.4052167e-01</th>\n",
       "      <th>7.0858515e-01</th>\n",
       "      <th>7.0501088e-01</th>\n",
       "      <th>7.1381545e-01</th>\n",
       "      <th>4.3376464e-01</th>\n",
       "    </tr>\n",
       "  </thead>\n",
       "  <tbody>\n",
       "    <tr>\n",
       "      <th>0</th>\n",
       "      <td>0.606061</td>\n",
       "      <td>-0.562875</td>\n",
       "      <td>-0.626371</td>\n",
       "      <td>-1.684678</td>\n",
       "      <td>-1.889607</td>\n",
       "      <td>-1.519094</td>\n",
       "      <td>-1.021311</td>\n",
       "      <td>-0.169213</td>\n",
       "      <td>-1.069893</td>\n",
       "      <td>-1.976327</td>\n",
       "      <td>...</td>\n",
       "      <td>-0.716434</td>\n",
       "      <td>-0.570110</td>\n",
       "      <td>-0.024641</td>\n",
       "      <td>0.829306</td>\n",
       "      <td>2.027689</td>\n",
       "      <td>2.277342</td>\n",
       "      <td>1.349421</td>\n",
       "      <td>-0.241743</td>\n",
       "      <td>-1.442540</td>\n",
       "      <td>-0.380272</td>\n",
       "    </tr>\n",
       "    <tr>\n",
       "      <th>1</th>\n",
       "      <td>-1.393939</td>\n",
       "      <td>-0.393876</td>\n",
       "      <td>-1.187841</td>\n",
       "      <td>-1.681978</td>\n",
       "      <td>-1.069763</td>\n",
       "      <td>0.132479</td>\n",
       "      <td>1.012649</td>\n",
       "      <td>1.431773</td>\n",
       "      <td>1.289997</td>\n",
       "      <td>0.801638</td>\n",
       "      <td>...</td>\n",
       "      <td>0.581298</td>\n",
       "      <td>0.440740</td>\n",
       "      <td>0.352175</td>\n",
       "      <td>0.284324</td>\n",
       "      <td>0.193263</td>\n",
       "      <td>0.319521</td>\n",
       "      <td>0.425713</td>\n",
       "      <td>0.470248</td>\n",
       "      <td>0.640576</td>\n",
       "      <td>0.367099</td>\n",
       "    </tr>\n",
       "    <tr>\n",
       "      <th>2</th>\n",
       "      <td>-1.393939</td>\n",
       "      <td>0.458352</td>\n",
       "      <td>0.644861</td>\n",
       "      <td>-0.292309</td>\n",
       "      <td>-0.527055</td>\n",
       "      <td>0.403337</td>\n",
       "      <td>0.555934</td>\n",
       "      <td>0.193388</td>\n",
       "      <td>0.194250</td>\n",
       "      <td>0.485630</td>\n",
       "      <td>...</td>\n",
       "      <td>0.236076</td>\n",
       "      <td>0.554006</td>\n",
       "      <td>1.123222</td>\n",
       "      <td>1.854026</td>\n",
       "      <td>1.335857</td>\n",
       "      <td>1.012674</td>\n",
       "      <td>1.506879</td>\n",
       "      <td>0.978349</td>\n",
       "      <td>0.622941</td>\n",
       "      <td>0.559292</td>\n",
       "    </tr>\n",
       "    <tr>\n",
       "      <th>3</th>\n",
       "      <td>0.606061</td>\n",
       "      <td>-0.061865</td>\n",
       "      <td>-0.679014</td>\n",
       "      <td>0.583781</td>\n",
       "      <td>1.322214</td>\n",
       "      <td>0.572449</td>\n",
       "      <td>-0.226288</td>\n",
       "      <td>-0.454570</td>\n",
       "      <td>0.458656</td>\n",
       "      <td>0.567225</td>\n",
       "      <td>...</td>\n",
       "      <td>-0.280800</td>\n",
       "      <td>-0.306668</td>\n",
       "      <td>-0.540962</td>\n",
       "      <td>-0.371903</td>\n",
       "      <td>-0.491036</td>\n",
       "      <td>-0.650131</td>\n",
       "      <td>-0.691337</td>\n",
       "      <td>-0.733156</td>\n",
       "      <td>0.137124</td>\n",
       "      <td>0.409941</td>\n",
       "    </tr>\n",
       "    <tr>\n",
       "      <th>4</th>\n",
       "      <td>0.606061</td>\n",
       "      <td>-0.305790</td>\n",
       "      <td>-0.150181</td>\n",
       "      <td>0.462698</td>\n",
       "      <td>-0.833982</td>\n",
       "      <td>-0.092276</td>\n",
       "      <td>-0.272633</td>\n",
       "      <td>-1.662506</td>\n",
       "      <td>-0.969243</td>\n",
       "      <td>0.065395</td>\n",
       "      <td>...</td>\n",
       "      <td>0.193538</td>\n",
       "      <td>0.107930</td>\n",
       "      <td>0.024951</td>\n",
       "      <td>-0.123371</td>\n",
       "      <td>-0.002385</td>\n",
       "      <td>0.082468</td>\n",
       "      <td>-0.414424</td>\n",
       "      <td>-0.075124</td>\n",
       "      <td>0.169498</td>\n",
       "      <td>0.166937</td>\n",
       "    </tr>\n",
       "    <tr>\n",
       "      <th>...</th>\n",
       "      <td>...</td>\n",
       "      <td>...</td>\n",
       "      <td>...</td>\n",
       "      <td>...</td>\n",
       "      <td>...</td>\n",
       "      <td>...</td>\n",
       "      <td>...</td>\n",
       "      <td>...</td>\n",
       "      <td>...</td>\n",
       "      <td>...</td>\n",
       "      <td>...</td>\n",
       "      <td>...</td>\n",
       "      <td>...</td>\n",
       "      <td>...</td>\n",
       "      <td>...</td>\n",
       "      <td>...</td>\n",
       "      <td>...</td>\n",
       "      <td>...</td>\n",
       "      <td>...</td>\n",
       "      <td>...</td>\n",
       "      <td>...</td>\n",
       "    </tr>\n",
       "    <tr>\n",
       "      <th>94</th>\n",
       "      <td>0.606061</td>\n",
       "      <td>-0.129245</td>\n",
       "      <td>-0.554852</td>\n",
       "      <td>-1.009683</td>\n",
       "      <td>-0.337381</td>\n",
       "      <td>0.995691</td>\n",
       "      <td>1.499744</td>\n",
       "      <td>1.234443</td>\n",
       "      <td>0.709358</td>\n",
       "      <td>0.016122</td>\n",
       "      <td>...</td>\n",
       "      <td>0.819840</td>\n",
       "      <td>0.737987</td>\n",
       "      <td>0.715732</td>\n",
       "      <td>0.641513</td>\n",
       "      <td>0.356618</td>\n",
       "      <td>0.198677</td>\n",
       "      <td>0.375724</td>\n",
       "      <td>0.222773</td>\n",
       "      <td>-0.510802</td>\n",
       "      <td>-0.696794</td>\n",
       "    </tr>\n",
       "    <tr>\n",
       "      <th>95</th>\n",
       "      <td>-1.393939</td>\n",
       "      <td>1.978495</td>\n",
       "      <td>1.277664</td>\n",
       "      <td>-0.044068</td>\n",
       "      <td>0.102299</td>\n",
       "      <td>-0.028727</td>\n",
       "      <td>-0.716992</td>\n",
       "      <td>-0.827290</td>\n",
       "      <td>-1.115864</td>\n",
       "      <td>-1.345921</td>\n",
       "      <td>...</td>\n",
       "      <td>-0.319541</td>\n",
       "      <td>-0.242057</td>\n",
       "      <td>-0.283463</td>\n",
       "      <td>-0.420930</td>\n",
       "      <td>-0.531135</td>\n",
       "      <td>-0.546958</td>\n",
       "      <td>-0.629773</td>\n",
       "      <td>-0.398310</td>\n",
       "      <td>-0.053423</td>\n",
       "      <td>0.101215</td>\n",
       "    </tr>\n",
       "    <tr>\n",
       "      <th>96</th>\n",
       "      <td>-1.393939</td>\n",
       "      <td>-0.512845</td>\n",
       "      <td>-0.975623</td>\n",
       "      <td>-1.079340</td>\n",
       "      <td>-0.197545</td>\n",
       "      <td>0.713755</td>\n",
       "      <td>0.994432</td>\n",
       "      <td>0.892352</td>\n",
       "      <td>0.096079</td>\n",
       "      <td>-0.438155</td>\n",
       "      <td>...</td>\n",
       "      <td>0.299522</td>\n",
       "      <td>0.155688</td>\n",
       "      <td>0.047266</td>\n",
       "      <td>-0.098335</td>\n",
       "      <td>-0.360381</td>\n",
       "      <td>-0.215558</td>\n",
       "      <td>-0.055182</td>\n",
       "      <td>-0.398606</td>\n",
       "      <td>-0.135043</td>\n",
       "      <td>0.171045</td>\n",
       "    </tr>\n",
       "    <tr>\n",
       "      <th>97</th>\n",
       "      <td>0.606061</td>\n",
       "      <td>-0.531022</td>\n",
       "      <td>-0.392631</td>\n",
       "      <td>-0.106029</td>\n",
       "      <td>0.571640</td>\n",
       "      <td>0.124998</td>\n",
       "      <td>-0.848075</td>\n",
       "      <td>-1.844820</td>\n",
       "      <td>-1.073068</td>\n",
       "      <td>-0.191240</td>\n",
       "      <td>...</td>\n",
       "      <td>0.141393</td>\n",
       "      <td>0.160607</td>\n",
       "      <td>-0.088772</td>\n",
       "      <td>0.166486</td>\n",
       "      <td>0.156393</td>\n",
       "      <td>-0.320789</td>\n",
       "      <td>0.058135</td>\n",
       "      <td>-0.127550</td>\n",
       "      <td>0.015912</td>\n",
       "      <td>0.279461</td>\n",
       "    </tr>\n",
       "    <tr>\n",
       "      <th>98</th>\n",
       "      <td>0.606061</td>\n",
       "      <td>-0.637398</td>\n",
       "      <td>-0.654986</td>\n",
       "      <td>0.128886</td>\n",
       "      <td>1.306824</td>\n",
       "      <td>0.622767</td>\n",
       "      <td>-0.249593</td>\n",
       "      <td>-1.190228</td>\n",
       "      <td>-1.821389</td>\n",
       "      <td>-1.045878</td>\n",
       "      <td>...</td>\n",
       "      <td>-0.241866</td>\n",
       "      <td>-0.300519</td>\n",
       "      <td>-0.547960</td>\n",
       "      <td>-0.460395</td>\n",
       "      <td>-0.471071</td>\n",
       "      <td>-0.805180</td>\n",
       "      <td>-0.834076</td>\n",
       "      <td>-0.345289</td>\n",
       "      <td>-0.355914</td>\n",
       "      <td>-0.428300</td>\n",
       "    </tr>\n",
       "  </tbody>\n",
       "</table>\n",
       "<p>99 rows × 97 columns</p>\n",
       "</div>"
      ],
      "text/plain": [
       "    -1.0000000e+00   5.0205548e-01   5.4216265e-01   7.2238348e-01  \\\n",
       "0         0.606061       -0.562875       -0.626371       -1.684678   \n",
       "1        -1.393939       -0.393876       -1.187841       -1.681978   \n",
       "2        -1.393939        0.458352        0.644861       -0.292309   \n",
       "3         0.606061       -0.061865       -0.679014        0.583781   \n",
       "4         0.606061       -0.305790       -0.150181        0.462698   \n",
       "..             ...             ...             ...             ...   \n",
       "94        0.606061       -0.129245       -0.554852       -1.009683   \n",
       "95       -1.393939        1.978495        1.277664       -0.044068   \n",
       "96       -1.393939       -0.512845       -0.975623       -1.079340   \n",
       "97        0.606061       -0.531022       -0.392631       -0.106029   \n",
       "98        0.606061       -0.637398       -0.654986        0.128886   \n",
       "\n",
       "     1.4288852e+00   2.1365158e+00   2.2811490e+00   1.9362737e+00  \\\n",
       "0        -1.889607       -1.519094       -1.021311       -0.169213   \n",
       "1        -1.069763        0.132479        1.012649        1.431773   \n",
       "2        -0.527055        0.403337        0.555934        0.193388   \n",
       "3         1.322214        0.572449       -0.226288       -0.454570   \n",
       "4        -0.833982       -0.092276       -0.272633       -1.662506   \n",
       "..             ...             ...             ...             ...   \n",
       "94       -0.337381        0.995691        1.499744        1.234443   \n",
       "95        0.102299       -0.028727       -0.716992       -0.827290   \n",
       "96       -0.197545        0.713755        0.994432        0.892352   \n",
       "97        0.571640        0.124998       -0.848075       -1.844820   \n",
       "98        1.306824        0.622767       -0.249593       -1.190228   \n",
       "\n",
       "     1.4688900e+00   1.0088451e+00  ...   9.3104294e-01   6.1029836e-01  \\\n",
       "0        -1.069893       -1.976327  ...       -0.716434       -0.570110   \n",
       "1         1.289997        0.801638  ...        0.581298        0.440740   \n",
       "2         0.194250        0.485630  ...        0.236076        0.554006   \n",
       "3         0.458656        0.567225  ...       -0.280800       -0.306668   \n",
       "4        -0.969243        0.065395  ...        0.193538        0.107930   \n",
       "..             ...             ...  ...             ...             ...   \n",
       "94        0.709358        0.016122  ...        0.819840        0.737987   \n",
       "95       -1.115864       -1.345921  ...       -0.319541       -0.242057   \n",
       "96        0.096079       -0.438155  ...        0.299522        0.155688   \n",
       "97       -1.073068       -0.191240  ...        0.141393        0.160607   \n",
       "98       -1.821389       -1.045878  ...       -0.241866       -0.300519   \n",
       "\n",
       "     6.3889427e-01   6.8467857e-01   5.8323764e-01   6.4052167e-01  \\\n",
       "0        -0.024641        0.829306        2.027689        2.277342   \n",
       "1         0.352175        0.284324        0.193263        0.319521   \n",
       "2         1.123222        1.854026        1.335857        1.012674   \n",
       "3        -0.540962       -0.371903       -0.491036       -0.650131   \n",
       "4         0.024951       -0.123371       -0.002385        0.082468   \n",
       "..             ...             ...             ...             ...   \n",
       "94        0.715732        0.641513        0.356618        0.198677   \n",
       "95       -0.283463       -0.420930       -0.531135       -0.546958   \n",
       "96        0.047266       -0.098335       -0.360381       -0.215558   \n",
       "97       -0.088772        0.166486        0.156393       -0.320789   \n",
       "98       -0.547960       -0.460395       -0.471071       -0.805180   \n",
       "\n",
       "     7.0858515e-01   7.0501088e-01   7.1381545e-01   4.3376464e-01  \n",
       "0         1.349421       -0.241743       -1.442540       -0.380272  \n",
       "1         0.425713        0.470248        0.640576        0.367099  \n",
       "2         1.506879        0.978349        0.622941        0.559292  \n",
       "3        -0.691337       -0.733156        0.137124        0.409941  \n",
       "4        -0.414424       -0.075124        0.169498        0.166937  \n",
       "..             ...             ...             ...             ...  \n",
       "94        0.375724        0.222773       -0.510802       -0.696794  \n",
       "95       -0.629773       -0.398310       -0.053423        0.101215  \n",
       "96       -0.055182       -0.398606       -0.135043        0.171045  \n",
       "97        0.058135       -0.127550        0.015912        0.279461  \n",
       "98       -0.834076       -0.345289       -0.355914       -0.428300  \n",
       "\n",
       "[99 rows x 97 columns]"
      ]
     },
     "execution_count": 47,
     "metadata": {},
     "output_type": "execute_result"
    }
   ],
   "source": [
    "#Again we subtract the mean to get centralized value\n",
    "Centered_ECG200_DataFrame = ECG_DataFrame - ECG_DataFrame.mean()\n",
    "Centered_ECG200_DataFrame"
   ]
  },
  {
   "cell_type": "code",
   "execution_count": null,
   "id": "9e14da13",
   "metadata": {},
   "outputs": [],
   "source": []
  }
 ],
 "metadata": {
  "kernelspec": {
   "display_name": "Python 3 (ipykernel)",
   "language": "python",
   "name": "python3"
  },
  "language_info": {
   "codemirror_mode": {
    "name": "ipython",
    "version": 3
   },
   "file_extension": ".py",
   "mimetype": "text/x-python",
   "name": "python",
   "nbconvert_exporter": "python",
   "pygments_lexer": "ipython3",
   "version": "3.9.7"
  }
 },
 "nbformat": 4,
 "nbformat_minor": 5
}
