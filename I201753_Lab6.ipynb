{
 "cells": [
  {
   "cell_type": "code",
   "execution_count": 42,
   "id": "876fd970",
   "metadata": {
    "id": "876fd970"
   },
   "outputs": [],
   "source": [
    "import pandas as pd\n",
    "import numpy as np"
   ]
  },
  {
   "cell_type": "code",
   "execution_count": 43,
   "id": "6487ea42",
   "metadata": {
    "id": "6487ea42"
   },
   "outputs": [],
   "source": [
    "df = pd.read_csv(\"play_tennis.csv\")"
   ]
  },
  {
   "cell_type": "code",
   "execution_count": 44,
   "id": "541ecbb4",
   "metadata": {
    "colab": {
     "base_uri": "https://localhost:8080/",
     "height": 488
    },
    "id": "541ecbb4",
    "outputId": "e75556d7-baa0-4ea2-ee73-ff4e20af8b09",
    "scrolled": true
   },
   "outputs": [
    {
     "data": {
      "text/html": [
       "<div>\n",
       "<style scoped>\n",
       "    .dataframe tbody tr th:only-of-type {\n",
       "        vertical-align: middle;\n",
       "    }\n",
       "\n",
       "    .dataframe tbody tr th {\n",
       "        vertical-align: top;\n",
       "    }\n",
       "\n",
       "    .dataframe thead th {\n",
       "        text-align: right;\n",
       "    }\n",
       "</style>\n",
       "<table border=\"1\" class=\"dataframe\">\n",
       "  <thead>\n",
       "    <tr style=\"text-align: right;\">\n",
       "      <th></th>\n",
       "      <th>day</th>\n",
       "      <th>outlook</th>\n",
       "      <th>temp</th>\n",
       "      <th>humidity</th>\n",
       "      <th>wind</th>\n",
       "      <th>play</th>\n",
       "    </tr>\n",
       "  </thead>\n",
       "  <tbody>\n",
       "    <tr>\n",
       "      <th>0</th>\n",
       "      <td>D1</td>\n",
       "      <td>Sunny</td>\n",
       "      <td>Hot</td>\n",
       "      <td>High</td>\n",
       "      <td>Weak</td>\n",
       "      <td>No</td>\n",
       "    </tr>\n",
       "    <tr>\n",
       "      <th>1</th>\n",
       "      <td>D2</td>\n",
       "      <td>Sunny</td>\n",
       "      <td>Hot</td>\n",
       "      <td>High</td>\n",
       "      <td>Strong</td>\n",
       "      <td>No</td>\n",
       "    </tr>\n",
       "    <tr>\n",
       "      <th>2</th>\n",
       "      <td>D3</td>\n",
       "      <td>Overcast</td>\n",
       "      <td>Hot</td>\n",
       "      <td>High</td>\n",
       "      <td>Weak</td>\n",
       "      <td>Yes</td>\n",
       "    </tr>\n",
       "    <tr>\n",
       "      <th>3</th>\n",
       "      <td>D4</td>\n",
       "      <td>Rain</td>\n",
       "      <td>Mild</td>\n",
       "      <td>High</td>\n",
       "      <td>Weak</td>\n",
       "      <td>Yes</td>\n",
       "    </tr>\n",
       "    <tr>\n",
       "      <th>4</th>\n",
       "      <td>D5</td>\n",
       "      <td>Rain</td>\n",
       "      <td>Cool</td>\n",
       "      <td>Normal</td>\n",
       "      <td>Weak</td>\n",
       "      <td>Yes</td>\n",
       "    </tr>\n",
       "    <tr>\n",
       "      <th>5</th>\n",
       "      <td>D6</td>\n",
       "      <td>Rain</td>\n",
       "      <td>Cool</td>\n",
       "      <td>Normal</td>\n",
       "      <td>Strong</td>\n",
       "      <td>No</td>\n",
       "    </tr>\n",
       "    <tr>\n",
       "      <th>6</th>\n",
       "      <td>D7</td>\n",
       "      <td>Overcast</td>\n",
       "      <td>Cool</td>\n",
       "      <td>Normal</td>\n",
       "      <td>Strong</td>\n",
       "      <td>Yes</td>\n",
       "    </tr>\n",
       "    <tr>\n",
       "      <th>7</th>\n",
       "      <td>D8</td>\n",
       "      <td>Sunny</td>\n",
       "      <td>Mild</td>\n",
       "      <td>High</td>\n",
       "      <td>Weak</td>\n",
       "      <td>No</td>\n",
       "    </tr>\n",
       "    <tr>\n",
       "      <th>8</th>\n",
       "      <td>D9</td>\n",
       "      <td>Sunny</td>\n",
       "      <td>Cool</td>\n",
       "      <td>Normal</td>\n",
       "      <td>Weak</td>\n",
       "      <td>Yes</td>\n",
       "    </tr>\n",
       "    <tr>\n",
       "      <th>9</th>\n",
       "      <td>D10</td>\n",
       "      <td>Rain</td>\n",
       "      <td>Mild</td>\n",
       "      <td>Normal</td>\n",
       "      <td>Weak</td>\n",
       "      <td>Yes</td>\n",
       "    </tr>\n",
       "    <tr>\n",
       "      <th>10</th>\n",
       "      <td>D11</td>\n",
       "      <td>Sunny</td>\n",
       "      <td>Mild</td>\n",
       "      <td>Normal</td>\n",
       "      <td>Strong</td>\n",
       "      <td>Yes</td>\n",
       "    </tr>\n",
       "    <tr>\n",
       "      <th>11</th>\n",
       "      <td>D12</td>\n",
       "      <td>Overcast</td>\n",
       "      <td>Mild</td>\n",
       "      <td>High</td>\n",
       "      <td>Strong</td>\n",
       "      <td>Yes</td>\n",
       "    </tr>\n",
       "    <tr>\n",
       "      <th>12</th>\n",
       "      <td>D13</td>\n",
       "      <td>Overcast</td>\n",
       "      <td>Hot</td>\n",
       "      <td>Normal</td>\n",
       "      <td>Weak</td>\n",
       "      <td>Yes</td>\n",
       "    </tr>\n",
       "    <tr>\n",
       "      <th>13</th>\n",
       "      <td>D14</td>\n",
       "      <td>Rain</td>\n",
       "      <td>Mild</td>\n",
       "      <td>High</td>\n",
       "      <td>Strong</td>\n",
       "      <td>No</td>\n",
       "    </tr>\n",
       "  </tbody>\n",
       "</table>\n",
       "</div>"
      ],
      "text/plain": [
       "    day   outlook  temp humidity    wind play\n",
       "0    D1     Sunny   Hot     High    Weak   No\n",
       "1    D2     Sunny   Hot     High  Strong   No\n",
       "2    D3  Overcast   Hot     High    Weak  Yes\n",
       "3    D4      Rain  Mild     High    Weak  Yes\n",
       "4    D5      Rain  Cool   Normal    Weak  Yes\n",
       "5    D6      Rain  Cool   Normal  Strong   No\n",
       "6    D7  Overcast  Cool   Normal  Strong  Yes\n",
       "7    D8     Sunny  Mild     High    Weak   No\n",
       "8    D9     Sunny  Cool   Normal    Weak  Yes\n",
       "9   D10      Rain  Mild   Normal    Weak  Yes\n",
       "10  D11     Sunny  Mild   Normal  Strong  Yes\n",
       "11  D12  Overcast  Mild     High  Strong  Yes\n",
       "12  D13  Overcast   Hot   Normal    Weak  Yes\n",
       "13  D14      Rain  Mild     High  Strong   No"
      ]
     },
     "execution_count": 44,
     "metadata": {},
     "output_type": "execute_result"
    }
   ],
   "source": [
    "df"
   ]
  },
  {
   "cell_type": "markdown",
   "id": "YU6pNOM25TE8",
   "metadata": {
    "id": "YU6pNOM25TE8"
   },
   "source": [
    "# Use naïve bayes classifer on the Tennis play dataset, your code should ask the user to input\n",
    "# some features and return the class of the input"
   ]
  },
  {
   "cell_type": "code",
   "execution_count": 45,
   "id": "38598777",
   "metadata": {
    "id": "38598777"
   },
   "outputs": [],
   "source": [
    "prob1 =dict(df.groupby('outlook')['play'].value_counts() / df.groupby ('outlook')['play'].count())\n",
    "prob1[('Overcast', 'No')]=0.0\n",
    "prob_dict_array = []\n",
    "prob_dict_array.append(prob1)"
   ]
  },
  {
   "cell_type": "code",
   "execution_count": 46,
   "id": "eaE-7JuV8Ipj",
   "metadata": {
    "colab": {
     "base_uri": "https://localhost:8080/"
    },
    "id": "eaE-7JuV8Ipj",
    "outputId": "e358f15c-fff1-486a-c567-d64f88ea4ef3"
   },
   "outputs": [
    {
     "data": {
      "text/plain": [
       "[{('Overcast', 'Yes'): 1.0,\n",
       "  ('Rain', 'Yes'): 0.6,\n",
       "  ('Rain', 'No'): 0.4,\n",
       "  ('Sunny', 'No'): 0.6,\n",
       "  ('Sunny', 'Yes'): 0.4,\n",
       "  ('Overcast', 'No'): 0.0},\n",
       " {('Cool', 'Yes'): 0.75,\n",
       "  ('Cool', 'No'): 0.25,\n",
       "  ('Hot', 'No'): 0.5,\n",
       "  ('Hot', 'Yes'): 0.5,\n",
       "  ('Mild', 'Yes'): 0.6666666666666666,\n",
       "  ('Mild', 'No'): 0.3333333333333333},\n",
       " {('High', 'No'): 0.5714285714285714,\n",
       "  ('High', 'Yes'): 0.42857142857142855,\n",
       "  ('Normal', 'Yes'): 0.8571428571428571,\n",
       "  ('Normal', 'No'): 0.14285714285714285},\n",
       " {('Strong', 'No'): 0.5,\n",
       "  ('Strong', 'Yes'): 0.5,\n",
       "  ('Weak', 'Yes'): 0.75,\n",
       "  ('Weak', 'No'): 0.25}]"
      ]
     },
     "execution_count": 46,
     "metadata": {},
     "output_type": "execute_result"
    }
   ],
   "source": [
    "cols = ['temp' ,'humidity','wind']\n",
    "\n",
    "for i in cols:\n",
    "  arr = dict(df.groupby(i)['play'].value_counts() / df.groupby (i)['play'].count())\n",
    "  prob_dict_array.append(arr)\n",
    "prob_dict_array"
   ]
  },
  {
   "cell_type": "code",
   "execution_count": 47,
   "id": "2fwIfQEn94N7",
   "metadata": {
    "colab": {
     "base_uri": "https://localhost:8080/"
    },
    "id": "2fwIfQEn94N7",
    "outputId": "90389627-0cf4-4d14-9f3a-8e1233fd6d77"
   },
   "outputs": [
    {
     "name": "stdout",
     "output_type": "stream",
     "text": [
      "Write first alphabet capital\n",
      "Input:  outlook\n",
      "Sunny\n",
      "Input:  temp\n",
      "Hot\n",
      "Input:  humidity\n",
      "Normal\n",
      "Input:  wind\n",
      "Weak\n"
     ]
    }
   ],
   "source": [
    "def askForInput():\n",
    "  prompt = ['outlook',\t'temp'\t,'humidity',\t'wind']\n",
    "  retarray=[]\n",
    "  print(\"Write first alphabet capital\")\n",
    "  for i in prompt:\n",
    "    print(\"Input: \",i)\n",
    "    word= input()\n",
    "    retarray.append(word)\n",
    "  return retarray\n",
    "\n",
    "#inputar =['Sunny','Hot','Normal','Weak']\n",
    "inputar = askForInput()"
   ]
  },
  {
   "cell_type": "code",
   "execution_count": 48,
   "id": "2e98W9N7C2jl",
   "metadata": {
    "colab": {
     "base_uri": "https://localhost:8080/"
    },
    "id": "2e98W9N7C2jl",
    "outputId": "38035055-5616-4668-f600-9c5f5aeadf19"
   },
   "outputs": [
    {
     "name": "stdout",
     "output_type": "stream",
     "text": [
      "Play: yes\n",
      "yes:  0.08265306122448979\n",
      "no:  0.0038265306122448974\n"
     ]
    }
   ],
   "source": [
    "#Yes and No are variables, which hold probabilty. they are initiated with 1n because values will be multiplied and stored with/in them\n",
    "yes = 1\n",
    "no = 1\n",
    "for i in range(len(inputar)):\n",
    "  val_yes = prob_dict_array[i][(inputar[i], 'Yes')]\n",
    "  yes *= val_yes\n",
    "  val_no = prob_dict_array[i][(inputar[i], 'No')]\n",
    "  no *= val_no\n",
    "\n",
    "#Noe multiplying the prob of yes and no to their respective probs\n",
    "yes *= (9/14)\n",
    "no *= (5/14)\n",
    "if(yes > no):\n",
    "  print(\"Play: yes\")\n",
    "  print(\"yes: \",yes)\n",
    "  print(\"no: \",no)\n",
    "else:\n",
    "  print(\"Play: no\")\n",
    "  print(\"yes: \",yes)\n",
    "  print(\"no: \",no)"
   ]
  },
  {
   "cell_type": "markdown",
   "id": "_7v2ZbPtI5OO",
   "metadata": {
    "id": "_7v2ZbPtI5OO"
   },
   "source": [
    "## Use bayesian classification to detect the class of a test sentence. Once use naïve bayes to\n",
    "## classify the test sentence and then remove the naïve assumption and classify the sentence."
   ]
  },
  {
   "cell_type": "markdown",
   "id": "pqrsOPL1JMQg",
   "metadata": {
    "id": "pqrsOPL1JMQg"
   },
   "source": [
    "Test Sentence: “Mangoes are good”\n",
    "Training Set:\n",
    "+ I love mangoes.\n",
    "+ Mangoes are a lot tastier than other fruits\n",
    "+ I like mangoes because they are good,\n",
    "+ Apples are good too but I prefer mangoes\n",
    "+ People say mango is the king of fruit so that is why mangoes are good\n",
    "+ Mangoes are good because they are juicy\n",
    "- Eating too many mangoes can have a negative impact on your health\n",
    "- Mangoes are good but not too good, I like apples more than mangoes\n",
    "- I don’t like mangoes because they are expensive\n",
    "- Mangoes are not good.\n",
    "- I don’t like mangoes"
   ]
  },
  {
   "cell_type": "code",
   "execution_count": 49,
   "id": "lNRvYoaeH45P",
   "metadata": {
    "id": "lNRvYoaeH45P"
   },
   "outputs": [
    {
     "name": "stdout",
     "output_type": "stream",
     "text": [
      "Sentence is positive\n"
     ]
    }
   ],
   "source": [
    "positive_train= \"I love mangoes. Mangoes are a lot tastier than other fruits I like mangoes because they are good, Apples are good too but I prefer mangoes People say mango is the king of fruit so that is why mangoes are good Mangoes are good because they are juicy\"\n",
    "negative_train= \"Eating too many mangoes can have a negative impact on your health Mangoes are good but not too good, I like apples more than mangoes I don’t like mangoes because they are expensive Mangoes are not good. I don’t like mangoes\"\n",
    "punctuation = \".,'\"\n",
    "\n",
    "#turning the capital alphabets to lowercase\n",
    "positive_train=positive_train.lower()\n",
    "negative_train=negative_train.lower()\n",
    "\n",
    "#Tokenizing the positive and negative_train \n",
    "word = ''\n",
    "positive_set , negative_set =[] ,[]\n",
    "for alphabet in positive_train: \n",
    "    if alphabet in punctuation:\n",
    "        continue #If theres a punctuation mark, skip it and continue \n",
    "    else:\n",
    "        word= word + alphabet #Keep adding alphabets until the word is completed\n",
    "        if alphabet == ' ':\n",
    "            positive_set.append(word)\n",
    "            word=''\n",
    "            \n",
    "    \n",
    "for alphabet in negative_train: \n",
    "    if alphabet in punctuation:\n",
    "        continue #If theres a punctuation mark, skip it and continue \n",
    "    else:\n",
    "        word= word + alphabet #Keep adding alphabets until the word is completed\n",
    "        if alphabet == ' ':\n",
    "            negative_set.append(word)\n",
    "            word=''\n",
    "            \n",
    "test = \"Mangoes are good\"\n",
    "test = test.lower()\n",
    "\n",
    "#Making arrays to store the number of times, mangoes, are and good have occured in positive and negative sets\n",
    "positive_array , negative_array=[0,0,0] ,[0,0,0]\n",
    "\n",
    "for words in positive_set:\n",
    "    if 'mangoes' in words:\n",
    "        positive_array[0] += 1\n",
    "    if 'are' in words:\n",
    "        positive_array[1] += 1\n",
    "    if 'good' in words:\n",
    "        positive_array[2] += 1\n",
    "\n",
    "for words in negative_set:\n",
    "    if 'mangoes' in words:\n",
    "        negative_array[0] += 1\n",
    "    if 'are' in words:\n",
    "        negative_array[1] += 1\n",
    "    if 'good' in words:\n",
    "        negative_array[2] += 1\n",
    "        \n",
    "prob_positive = (positive_array[0]/len(positive_set)) * (positive_array[1]/len(positive_set)) * (positive_array[2]/len(positive_set)) * len(positive_set) / (len(positive_set)+len(negative_set))\n",
    "prob_negative = (negative_array[0]/len(negative_set)) * (negative_array[1]/len(negative_set)) * (negative_array[2]/len(negative_set)) * len(negative_set) / (len(positive_set)+len(negative_set))\n",
    "\n",
    "if prob_positive > prob_negative :\n",
    "    print(\"Sentence is positive\")\n",
    "else: \n",
    "    print(\"Sentence is negative\")"
   ]
  },
  {
   "cell_type": "markdown",
   "id": "b17c705c",
   "metadata": {},
   "source": [
    "## Bayesian"
   ]
  },
  {
   "cell_type": "code",
   "execution_count": 50,
   "id": "72298eeb",
   "metadata": {},
   "outputs": [
    {
     "name": "stdout",
     "output_type": "stream",
     "text": [
      "Sentence is positive\n"
     ]
    }
   ],
   "source": [
    "positive_train= \"I love mangoes. Mangoes are a lot tastier than other fruits I like mangoes because they are good, Apples are good too but I prefer mangoes People say mango is the king of fruit so that is why mangoes are good Mangoes are good because they are juicy\"\n",
    "negative_train= \"Eating too many mangoes can have a negative impact on your health Mangoes are good but not too good, I like apples more than mangoes I don’t like mangoes because they are expensive Mangoes are not good. I don’t like mangoes\"\n",
    "punctuation = \".,'\"\n",
    "\n",
    "#turning the capital alphabets to lowercase\n",
    "positive_train=positive_train.lower()\n",
    "negative_train=negative_train.lower()\n",
    "\n",
    "#Tokenizing the positive and negative_train \n",
    "word = ''\n",
    "positive_set , negative_set =[] ,[]\n",
    "for alphabet in positive_train: \n",
    "    if alphabet in punctuation:\n",
    "        continue #If theres a punctuation mark, skip it and continue \n",
    "    else:\n",
    "        word= word + alphabet #Keep adding alphabets until the word is completed\n",
    "        if alphabet == ' ':\n",
    "            positive_set.append(word)\n",
    "            word=''\n",
    "            \n",
    "    \n",
    "for alphabet in negative_train: \n",
    "    if alphabet in punctuation:\n",
    "        continue #If theres a punctuation mark, skip it and continue \n",
    "    else:\n",
    "        word= word + alphabet #Keep adding alphabets until the word is completed\n",
    "        if alphabet == ' ':\n",
    "            negative_set.append(word)\n",
    "            word=''\n",
    "            \n",
    "i2positive , i3positive = [] , []\n",
    "i2negative , i3negative = [] , []\n",
    "\n",
    "#preparing the 2 words and 3 words set \n",
    "for i in range (0,len(positive_set)-1): \n",
    "    i2positive.append(positive_set[i]+positive_set[i+1])\n",
    "    \n",
    "for i in range (0,len(negative_set)-1): \n",
    "    i2negative.append(negative_set[i]+negative_set[i+1])\n",
    "    \n",
    "\n",
    "for i in range (0,len(positive_set)-2): \n",
    "    i3positive.append(positive_set[i]+positive_set[i+1]+positive_set[i+2])\n",
    "    \n",
    "for i in range (0,len(negative_set)-2): \n",
    "    i3negative.append(negative_set[i]+negative_set[i+1]+negative_set[i+2])\n",
    "\n",
    "\n",
    "test = \"Mangoes are good\"\n",
    "test = test.lower()\n",
    "\n",
    "Positive_count = [0,0,0] # 0- mangoes , 1- mangoes are, 2- mangoes are good\n",
    "negative_count = [0,0,0]\n",
    "\n",
    "for i in positive_set: #Counign the mangoes term only in positive\n",
    "    if \"mangoes\" in i:\n",
    "        Positive_count[0] += 1   \n",
    "    \n",
    "for i in i2positive: #Couning the 'mangoes are' term only in positive\n",
    "    if \"mangoes are\" in i:\n",
    "        Positive_count[1] += 1\n",
    "        \n",
    "    \n",
    "for i in i3positive: #Couning the 'mangoes are good' term only in positive\n",
    "    if \"mangoes are good\" in i:\n",
    "        Positive_count[2] += 1\n",
    "        \n",
    "#Now for negative\n",
    "        \n",
    "for i in negative_set:  #Counign the mangoes term only in negative \n",
    "    if \"mangoes\" in i:\n",
    "        negative_count[0] += 1\n",
    "    \n",
    "for i in i2negative: #Couning the 'mangoes are' term only in negative \n",
    "    if \"mangoes are\" in i: \n",
    "        negative_count[1] += 1\n",
    "        \n",
    "    \n",
    "for i in i3negative: #Couning the 'mangoes are good' term only in negative\n",
    "    if \"mangoes are good\" in i:\n",
    "        negative_count[2] += 1\n",
    "        \n",
    "\n",
    "prob_positive = (Positive_count[0] / len(positive_set) ) * (Positive_count[1]/Positive_count[0]) * (Positive_count[2]/Positive_count[1]) * (len(positive_set)/ len(positive_set) + len(negative_set))\n",
    "prob_negative = (negative_count[0] / len(negative_set) ) * (negative_count[1]/negative_count[0]) * (negative_count[2]/negative_count[1]) * (len(negative_set)/ len(positive_set) + len(negative_set))\n",
    "\n",
    "if prob_positive > prob_negative:\n",
    "    print(\"Sentence is positive\")\n",
    "else:\n",
    "    print(\"Sentence is negative\")"
   ]
  }
 ],
 "metadata": {
  "colab": {
   "collapsed_sections": [],
   "provenance": []
  },
  "kernelspec": {
   "display_name": "Python 3 (ipykernel)",
   "language": "python",
   "name": "python3"
  },
  "language_info": {
   "codemirror_mode": {
    "name": "ipython",
    "version": 3
   },
   "file_extension": ".py",
   "mimetype": "text/x-python",
   "name": "python",
   "nbconvert_exporter": "python",
   "pygments_lexer": "ipython3",
   "version": "3.9.7"
  }
 },
 "nbformat": 4,
 "nbformat_minor": 5
}
