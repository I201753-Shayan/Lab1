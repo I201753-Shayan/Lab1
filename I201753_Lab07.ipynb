{
 "cells": [
  {
   "cell_type": "code",
   "execution_count": 8,
   "id": "13aa3fe2",
   "metadata": {},
   "outputs": [],
   "source": [
    "from collections import defaultdict\n",
    "from collections import Counter"
   ]
  },
  {
   "cell_type": "code",
   "execution_count": 25,
   "id": "a5e40619",
   "metadata": {},
   "outputs": [],
   "source": [
    "positive_train= \"I love mangoes. Mangoes are a lot tastier than other fruits I like mangoes because they are good, Apples are good too but I prefer mangoes People say mango is the king of fruit so that is why mangoes are good Mangoes are good because they are juicy \"\n",
    "negative_train= \"Eating too many mangoes can have a negative impact on your health Mangoes are good but not too good, I like apples more than mangoes I don’t like mangoes because they are expensive Mangoes are not good. I don’t like mangoes\"\n",
    "punctuation = \".,'\"\n",
    "\n",
    "#turning the capital alphabets to lowercase\n",
    "positive_train=positive_train.lower()\n",
    "negative_train=negative_train.lower()\n",
    "\n",
    "#Tokenizing the positive and negative_train \n",
    "word = ''\n",
    "positive_set , negative_set =[] ,[] #contains positive/negative dataset words\n",
    "for alphabet in positive_train: \n",
    "    if alphabet in punctuation:\n",
    "        continue #If theres a punctuation mark, skip it and continue \n",
    "    else:\n",
    "        word= word + alphabet #Keep adding alphabets until the word is completed\n",
    "        if alphabet == ' ':\n",
    "            positive_set.append(word)\n",
    "            word=''\n",
    "            \n",
    "    \n",
    "for alphabet in negative_train: \n",
    "    if alphabet in punctuation:\n",
    "        continue #If theres a punctuation mark, skip it and continue \n",
    "    else:\n",
    "        word= word + alphabet #Keep adding alphabets until the word is completed\n",
    "        if alphabet == ' ':\n",
    "            negative_set.append(word)\n",
    "            word=''"
   ]
  },
  {
   "cell_type": "code",
   "execution_count": 26,
   "id": "2fd5194c",
   "metadata": {},
   "outputs": [],
   "source": [
    "unique_positive_set = Counter(positive_set)\n",
    "unique_negative_set = Counter(negative_set)"
   ]
  },
  {
   "cell_type": "markdown",
   "id": "ea0522fa",
   "metadata": {},
   "source": [
    "# formule= P(word) = count(word) +1 / (Count of words in the set) + (count of unique words in both + & - sets) \n",
    "\n",
    "P(w) = c(w) + 1 / |c| +|v|"
   ]
  },
  {
   "cell_type": "code",
   "execution_count": 27,
   "id": "79ddeb6b",
   "metadata": {},
   "outputs": [],
   "source": [
    "total_words = positive_set + negative_set\n",
    "unique_total_words = Counter(total_words)\n",
    "#len(unique_total_words)\n",
    "V = len(unique_total_words) "
   ]
  },
  {
   "cell_type": "code",
   "execution_count": 28,
   "id": "12eb111e",
   "metadata": {},
   "outputs": [],
   "source": [
    "c_positive = len(positive_set)\n",
    "c_negative = len(negative_set)"
   ]
  },
  {
   "cell_type": "code",
   "execution_count": 36,
   "id": "fdf1f188",
   "metadata": {},
   "outputs": [],
   "source": [
    "# default case for default dict\n",
    "    \n",
    "def func_positive():\n",
    "    tmp = (0 + 1) / (c_positive + V ) \n",
    "    return tmp\n",
    "\n",
    "def func_negative():\n",
    "    tmp = (0 + 1) / (c_negative + V)\n",
    "    return tmp"
   ]
  },
  {
   "cell_type": "code",
   "execution_count": 33,
   "id": "1bffc65b",
   "metadata": {},
   "outputs": [],
   "source": [
    "Pdict = defaultdict(func_positive)\n",
    "Ndict = defaultdict(func_negative)"
   ]
  },
  {
   "cell_type": "code",
   "execution_count": 37,
   "id": "d35fbcfe",
   "metadata": {},
   "outputs": [],
   "source": [
    "for i,j in unique_positive_set.items():\n",
    "    tmp = (j+1) /  (c_positive + V)  \n",
    "    Pdict[i] = tmp\n",
    "    \n",
    "for i,j in unique_negative_set.items():\n",
    "    tmp = (j+1) /  (c_negative + V)  \n",
    "    Ndict[i] = tmp"
   ]
  },
  {
   "cell_type": "code",
   "execution_count": 45,
   "id": "22875184",
   "metadata": {},
   "outputs": [],
   "source": [
    "test = \"Mangoes are good\""
   ]
  },
  {
   "cell_type": "code",
   "execution_count": 43,
   "id": "465fe3b3",
   "metadata": {},
   "outputs": [],
   "source": [
    "def probFunc(test):\n",
    "    test.lower()\n",
    "    punctuation = \".,'\"\n",
    "    sentence=[]\n",
    "    word = ''\n",
    "    for alphabet in test: \n",
    "        if alphabet in punctuation:\n",
    "            continue #If theres a punctuation mark, skip it and continue \n",
    "        else:\n",
    "            word= word + alphabet #Keep adding alphabets until the word is completed\n",
    "            if alphabet == ' ':\n",
    "                sentence.append(word)\n",
    "                word=''\n",
    "    \n",
    "    positive_sentence , negative_sentence = 6/11 , 5/11   #6 sentences are positive in 11 sentences. we can initiate with 1 and later multiply this\n",
    "    for i in sentence:\n",
    "        positive_sentence *= Pdict[i]\n",
    "        negative_sentence *= Ndict[i]\n",
    "        \n",
    "    if positive_sentence > negative_sentence:\n",
    "        print(\"Sentence is Positive\")\n",
    "        print(\"Positive Prob: \",positive_sentence)\n",
    "        print(\"Negative Prob: \",negative_sentence)\n",
    "    else:\n",
    "        print(\"Sentence is Negative\")\n",
    "        print(\"Positive Prob: \",positive_sentence)\n",
    "        print(\"Negative Prob: \",negative_sentence)"
   ]
  },
  {
   "cell_type": "code",
   "execution_count": 47,
   "id": "cc0f31a3",
   "metadata": {},
   "outputs": [
    {
     "name": "stdout",
     "output_type": "stream",
     "text": [
      "Sentence is Positive\n",
      "Positive Prob:  1.80506993006993\n",
      "Negative Prob:  0.9424972617743702\n"
     ]
    }
   ],
   "source": [
    "probFunc(test)"
   ]
  }
 ],
 "metadata": {
  "kernelspec": {
   "display_name": "Python 3 (ipykernel)",
   "language": "python",
   "name": "python3"
  },
  "language_info": {
   "codemirror_mode": {
    "name": "ipython",
    "version": 3
   },
   "file_extension": ".py",
   "mimetype": "text/x-python",
   "name": "python",
   "nbconvert_exporter": "python",
   "pygments_lexer": "ipython3",
   "version": "3.9.7"
  }
 },
 "nbformat": 4,
 "nbformat_minor": 5
}
